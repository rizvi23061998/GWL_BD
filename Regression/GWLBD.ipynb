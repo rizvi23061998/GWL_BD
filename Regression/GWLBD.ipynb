{
  "nbformat": 4,
  "nbformat_minor": 0,
  "metadata": {
    "colab": {
      "name": "GWLBD.ipynb",
      "provenance": [],
      "collapsed_sections": []
    },
    "kernelspec": {
      "name": "python3",
      "display_name": "Python 3"
    }
  },
  "cells": [
    {
      "cell_type": "code",
      "metadata": {
        "id": "YomQTRidy2bp"
      },
      "source": [
        ""
      ],
      "execution_count": null,
      "outputs": []
    },
    {
      "cell_type": "markdown",
      "metadata": {
        "id": "OTuSnVary7-S"
      },
      "source": [
        "# Importing Modules"
      ]
    },
    {
      "cell_type": "code",
      "metadata": {
        "id": "uo4P9PRzy9pp"
      },
      "source": [
        "import numpy as np\n",
        "import pandas as pd\n",
        "\n",
        "from sklearn.preprocessing import OneHotEncoder,StandardScaler\n",
        "from sklearn.neighbors import KNeighborsRegressor\n",
        "from sklearn.svm import SVR\n",
        "from sklearn.ensemble import RandomForestRegressor\n",
        "from sklearn.ensemble import AdaBoostRegressor\n",
        "from sklearn.neural_network import MLPRegressor\n",
        "from sklearn.linear_model import ElasticNet\n",
        "from sklearn.model_selection import KFold\n"
      ],
      "execution_count": null,
      "outputs": []
    },
    {
      "cell_type": "code",
      "metadata": {
        "id": "JfWnEebrzANg"
      },
      "source": [
        ""
      ],
      "execution_count": null,
      "outputs": []
    },
    {
      "cell_type": "markdown",
      "metadata": {
        "id": "z94FIGgwzAlJ"
      },
      "source": [
        "# Load Data"
      ]
    },
    {
      "cell_type": "code",
      "metadata": {
        "id": "hp_4d28uzCTB"
      },
      "source": [
        "excel_data = pd.read_excel('data_acc_89.xlsx')"
      ],
      "execution_count": null,
      "outputs": []
    },
    {
      "cell_type": "code",
      "metadata": {
        "id": "rqasNVyY0Wa6"
      },
      "source": [
        "def parse_data(excel_data):\n",
        "\n",
        "    numeric_values = excel_data[['Sy','Elevation','Drainage_density']].values\n",
        "    categorical_values = excel_data[['Lithology']].values\n",
        "\n",
        "    enc = OneHotEncoder(handle_unknown='ignore')\n",
        "    enc.fit(categorical_values)\n",
        "    one_hot_vals = enc.transform(categorical_values).toarray()\n",
        "\n",
        "    scaler = StandardScaler()\n",
        "    scaler.fit(numeric_values)\n",
        "    normalized_vals = scaler.transform(numeric_values)\n",
        "\n",
        "    X = np.hstack([normalized_vals,one_hot_vals])\n",
        "    Y = excel_data[['GWL18']].values.ravel()\n",
        "\n",
        "    return (X,Y,enc,scaler)"
      ],
      "execution_count": null,
      "outputs": []
    },
    {
      "cell_type": "code",
      "metadata": {
        "id": "B7NWUH2B0n2x"
      },
      "source": [
        "(X_less,Y_less,enc_less,scaler_less) = parse_data(excel_data[excel_data['GWL18']<=7.5])\n",
        "(X_greater,Y_greater,enc_greater,scaler_greater) = parse_data(excel_data[excel_data['GWL18']>7.5])"
      ],
      "execution_count": null,
      "outputs": []
    },
    {
      "cell_type": "code",
      "metadata": {
        "id": "G9a9ShSO6Vym"
      },
      "source": [
        ""
      ],
      "execution_count": null,
      "outputs": []
    },
    {
      "cell_type": "markdown",
      "metadata": {
        "id": "6OViBYWc2Dl_"
      },
      "source": [
        "# ML Model"
      ]
    },
    {
      "cell_type": "code",
      "metadata": {
        "id": "-n0w6u5Y2aHv"
      },
      "source": [
        "class GWLML_Model:\n",
        "\n",
        "    def __init__(self, mode):\n",
        "\n",
        "        if (mode=='less'):\n",
        "            self.knn = KNeighborsRegressor(n_neighbors=10, weights='distance', p=1)\n",
        "            self.svr = SVR(kernel='rbf', gamma=3, C=1)\n",
        "            self.rf = RandomForestRegressor(n_estimators=70, random_state=2)\n",
        "            self.adaboost = AdaBoostRegressor(n_estimators=70, random_state=2)\n",
        "            self.mlp = MLPRegressor(hidden_layer_sizes=[32,64,32], activation='relu', random_state=2)\n",
        "            self.ensemble = ElasticNet(random_state=2)\n",
        "\n",
        "        if (mode=='greater'):\n",
        "            self.knn = KNeighborsRegressor(n_neighbors=50, weights='distance', p=1)\n",
        "            self.svr = SVR(kernel='rbf', gamma=1, C=1)\n",
        "            self.rf = RandomForestRegressor(n_estimators=100, random_state=2)\n",
        "            self.adaboost = AdaBoostRegressor(n_estimators=90, random_state=2) \n",
        "            self.mlp = MLPRegressor(hidden_layer_sizes=[8], activation='tanh', random_state=2)\n",
        "            self.ensemble = ElasticNet(random_state=2)\n",
        "\n",
        "\n",
        "    def fit(self,X,Y):\n",
        "\n",
        "        self.knn.fit(X,Y) \n",
        "        self.svr.fit(X,Y) \n",
        "        self.rf.fit(X,Y) \n",
        "        self.adaboost.fit(X,Y) \n",
        "        self.mlp.fit(X,Y) \n",
        "\n",
        "        yp_knn = self.knn.predict(X)\n",
        "        yp_svr = self.svr.predict(X)\n",
        "        yp_rf = self.rf.predict(X)\n",
        "        yp_adaboost = self.adaboost.predict(X)\n",
        "        yp_mlp = self.mlp.predict(X)\n",
        "\n",
        "        X_ens = np.vstack([yp_knn,yp_svr,yp_rf,yp_adaboost,yp_mlp]).T\n",
        "\n",
        "\n",
        "        self.ensemble.fit(X_ens,Y)\n",
        "\n",
        "\n",
        "    def predict(self,X):\n",
        "\n",
        "        yp_knn = self.knn.predict(X)\n",
        "        yp_svr = self.svr.predict(X)\n",
        "        yp_rf = self.rf.predict(X)\n",
        "        yp_adaboost = self.adaboost.predict(X)\n",
        "        yp_mlp = self.mlp.predict(X)\n",
        "\n",
        "        X_ens = np.vstack([yp_knn,yp_svr,yp_rf,yp_adaboost,yp_mlp]).T\n",
        "\n",
        "        yp_ens = self.ensemble.predict(X_ens)\n",
        "\n",
        "        return {\n",
        "            'knn' : yp_knn,\n",
        "            'svr' : yp_svr,\n",
        "            'rf' : yp_rf,\n",
        "            'adaboost' : yp_adaboost,\n",
        "            'mlp' : yp_mlp,\n",
        "            'ens' : yp_ens,\n",
        "        }\n",
        "\n",
        "    def evaluate(self,X,Y):\n",
        "\n",
        "        yp_knn = self.knn.predict(X)\n",
        "        yp_svr = self.svr.predict(X)\n",
        "        yp_rf = self.rf.predict(X)\n",
        "        yp_adaboost = self.adaboost.predict(X)\n",
        "        yp_mlp = self.mlp.predict(X)\n",
        "\n",
        "        X_ens = np.vstack([yp_knn,yp_svr,yp_rf,yp_adaboost,yp_mlp]).T\n",
        "\n",
        "        yp_ens = self.ensemble.predict(X_ens)\n",
        "\n",
        "        err = {\n",
        "            'knn' : np.mean(np.abs(yp_knn-Y)),\n",
        "            'svr' : np.mean(np.abs(yp_svr-Y)),\n",
        "            'rf' : np.mean(np.abs(yp_rf-Y)),\n",
        "            'adaboost' : np.mean(np.abs(yp_adaboost-Y)),\n",
        "            'mlp' : np.mean(np.abs(yp_mlp-Y)),\n",
        "            'ens' : np.mean(np.abs(yp_ens-Y))\n",
        "        }\n",
        "\n",
        "        print('\\tknn\\t',round(err['knn'],3),\n",
        "              '\\tsvr\\t',round(err['svr'],3),\n",
        "              '\\trf\\t',round(err['rf'],3),\n",
        "              '\\tadaboost\\t',round(err['adaboost'],3),\n",
        "              '\\tmlp\\t',round(err['mlp'],3),\n",
        "              '\\tens\\t',round(err['ens'],3),\n",
        "              )\n",
        "        \n",
        "        return err"
      ],
      "execution_count": null,
      "outputs": []
    },
    {
      "cell_type": "code",
      "metadata": {
        "id": "iWxEgcb77enO"
      },
      "source": [
        "model_less = GWLML_Model('less')\n",
        "model_less.fit(X_less,Y_less)"
      ],
      "execution_count": null,
      "outputs": []
    },
    {
      "cell_type": "code",
      "metadata": {
        "colab": {
          "base_uri": "https://localhost:8080/"
        },
        "id": "yaNjvXgc7mvd",
        "outputId": "ec44b5e7-17ba-456f-ee3a-41208e05671c"
      },
      "source": [
        "model_greater = GWLML_Model('greater')\n",
        "model_greater.fit(X_greater,Y_greater)"
      ],
      "execution_count": null,
      "outputs": [
        {
          "output_type": "stream",
          "text": [
            "/usr/local/lib/python3.7/dist-packages/sklearn/neural_network/_multilayer_perceptron.py:571: ConvergenceWarning: Stochastic Optimizer: Maximum iterations (200) reached and the optimization hasn't converged yet.\n",
            "  % self.max_iter, ConvergenceWarning)\n"
          ],
          "name": "stderr"
        }
      ]
    },
    {
      "cell_type": "markdown",
      "metadata": {
        "id": "ps-SlHjx80V1"
      },
      "source": [
        "# CV"
      ]
    },
    {
      "cell_type": "code",
      "metadata": {
        "id": "zuPCvJbE9Fdt"
      },
      "source": [
        "import warnings\n",
        "warnings.filterwarnings('ignore')\n"
      ],
      "execution_count": null,
      "outputs": []
    },
    {
      "cell_type": "code",
      "metadata": {
        "colab": {
          "base_uri": "https://localhost:8080/"
        },
        "id": "V19lJiW281Ck",
        "outputId": "145f8739-6b83-43b0-e920-d0ab370a49de"
      },
      "source": [
        "kf = KFold(n_splits=10)\n",
        "kf.get_n_splits(X_less)\n",
        "\n",
        "errs = {}\n",
        "\n",
        "for train_index, test_index in kf.split(X_less):\n",
        "    X_train, X_test = X_less[train_index], X_less[test_index]\n",
        "    y_train, y_test = Y_less[train_index], Y_less[test_index]\n",
        "\n",
        "    model_less = GWLML_Model('less')\n",
        "    model_less.fit(X_train,y_train)\n",
        "    err = model_less.evaluate(X_test,y_test)\n",
        "\n",
        "    for e in err:\n",
        "        if e not in errs:\n",
        "            errs[e]=[]\n",
        "        errs[e].append(err[e])\n",
        "\n",
        "print('------------------------')\n",
        "print('\\tknn\\t',round(np.mean(errs['knn']),3),\n",
        "        '\\tsvr\\t',round(np.mean(errs['svr']),3),\n",
        "        '\\trf\\t',round(np.mean(errs['rf']),3),\n",
        "        '\\tadaboost\\t',round(np.mean(errs['adaboost']),3),\n",
        "        '\\tmlp\\t',round(np.mean(errs['mlp']),3),\n",
        "        '\\tens\\t',round(np.mean(errs['ens']),3)\n",
        "    )\n"
      ],
      "execution_count": null,
      "outputs": [
        {
          "output_type": "stream",
          "text": [
            "knn\t 0.904 svr\t 0.892 rf\t 0.939 adaboost\t 1.003 mlp\t 0.87 ens\t 0.923\n",
            "knn\t 1.108 svr\t 1.067 rf\t 1.122 adaboost\t 1.099 mlp\t 1.087 ens\t 1.042\n",
            "knn\t 0.913 svr\t 0.942 rf\t 1.019 adaboost\t 0.881 mlp\t 0.88 ens\t 0.867\n",
            "knn\t 0.81 svr\t 0.88 rf\t 0.78 adaboost\t 0.966 mlp\t 0.844 ens\t 0.819\n",
            "knn\t 1.373 svr\t 1.378 rf\t 1.285 adaboost\t 1.517 mlp\t 1.387 ens\t 1.38\n",
            "knn\t 1.142 svr\t 1.178 rf\t 1.189 adaboost\t 1.078 mlp\t 1.241 ens\t 1.075\n",
            "knn\t 1.352 svr\t 1.476 rf\t 1.324 adaboost\t 1.696 mlp\t 1.189 ens\t 1.529\n",
            "knn\t 1.278 svr\t 1.249 rf\t 1.298 adaboost\t 1.34 mlp\t 1.243 ens\t 1.271\n",
            "knn\t 1.352 svr\t 1.338 rf\t 1.348 adaboost\t 1.167 mlp\t 1.439 ens\t 1.279\n",
            "knn\t 1.319 svr\t 1.347 rf\t 1.332 adaboost\t 1.456 mlp\t 1.458 ens\t 1.347\n",
            "------------------------\n",
            "\tknn\t 1.155 \tsvr\t 1.175 \trf\t 1.163 \tadaboost\t 1.22 \tmlp\t 1.164 \tens\t 1.153\n"
          ],
          "name": "stdout"
        }
      ]
    },
    {
      "cell_type": "code",
      "metadata": {
        "colab": {
          "base_uri": "https://localhost:8080/"
        },
        "id": "8gupooMn_dE1",
        "outputId": "507db439-9c59-4013-e61a-76010ecb6368"
      },
      "source": [
        "kf = KFold(n_splits=10)\n",
        "kf.get_n_splits(X_greater)\n",
        "\n",
        "errs = {}\n",
        "\n",
        "for train_index, test_index in kf.split(X_greater):\n",
        "    X_train, X_test = X_greater[train_index], X_greater[test_index]\n",
        "    y_train, y_test = Y_greater[train_index], Y_greater[test_index]\n",
        "\n",
        "    model_greater = GWLML_Model('greater')\n",
        "    model_greater.fit(X_train,y_train)\n",
        "    err = model_greater.evaluate(X_test,y_test)\n",
        "\n",
        "    for e in err:\n",
        "        if e not in errs:\n",
        "            errs[e]=[]\n",
        "        errs[e].append(err[e])\n",
        "\n",
        "print('------------------------')\n",
        "print('\\tknn\\t',round(np.mean(errs['knn']),3),\n",
        "        '\\tsvr\\t',round(np.mean(errs['svr']),3),\n",
        "        '\\trf\\t',round(np.mean(errs['rf']),3),\n",
        "        '\\tadaboost\\t',round(np.mean(errs['adaboost']),3),\n",
        "        '\\tmlp\\t',round(np.mean(errs['mlp']),3),\n",
        "        '\\tens\\t',round(np.mean(errs['ens']),3)\n",
        "    )\n"
      ],
      "execution_count": null,
      "outputs": [
        {
          "output_type": "stream",
          "text": [
            "\tknn\t 3.087 \tsvr\t 3.666 \trf\t 4.008 \tadaboost\t 4.072 \tmlp\t 4.492 \tens\t 3.108\n",
            "\tknn\t 3.648 \tsvr\t 3.708 \trf\t 6.487 \tadaboost\t 9.521 \tmlp\t 3.637 \tens\t 3.71\n",
            "\tknn\t 3.658 \tsvr\t 3.158 \trf\t 3.842 \tadaboost\t 9.456 \tmlp\t 3.095 \tens\t 3.657\n",
            "\tknn\t 3.502 \tsvr\t 3.292 \trf\t 3.59 \tadaboost\t 8.204 \tmlp\t 3.431 \tens\t 3.492\n",
            "\tknn\t 5.659 \tsvr\t 2.81 \trf\t 9.238 \tadaboost\t 16.922 \tmlp\t 2.196 \tens\t 5.768\n",
            "\tknn\t 2.877 \tsvr\t 1.884 \trf\t 3.852 \tadaboost\t 12.476 \tmlp\t 1.378 \tens\t 2.888\n",
            "\tknn\t 2.346 \tsvr\t 2.032 \trf\t 2.806 \tadaboost\t 9.44 \tmlp\t 1.98 \tens\t 2.328\n",
            "\tknn\t 4.632 \tsvr\t 4.781 \trf\t 4.835 \tadaboost\t 4.978 \tmlp\t 5.767 \tens\t 4.633\n",
            "\tknn\t 4.448 \tsvr\t 3.985 \trf\t 4.031 \tadaboost\t 6.077 \tmlp\t 3.777 \tens\t 4.418\n",
            "\tknn\t 12.651 \tsvr\t 13.078 \trf\t 12.564 \tadaboost\t 12.639 \tmlp\t 13.009 \tens\t 12.614\n",
            "------------------------\n",
            "\tknn\t 4.651 \tsvr\t 4.239 \trf\t 5.525 \tadaboost\t 9.378 \tmlp\t 4.276 \tens\t 4.662\n"
          ],
          "name": "stdout"
        }
      ]
    },
    {
      "cell_type": "markdown",
      "metadata": {
        "id": "XUxA_wZkA7xW"
      },
      "source": [
        "# 2kresults.xlsx"
      ]
    },
    {
      "cell_type": "code",
      "metadata": {
        "id": "wapMk5KeA-08"
      },
      "source": [
        "excel_data2k = pd.read_excel('2kresults.xlsx')"
      ],
      "execution_count": null,
      "outputs": []
    },
    {
      "cell_type": "code",
      "metadata": {
        "colab": {
          "base_uri": "https://localhost:8080/",
          "height": 419
        },
        "id": "dP9YaJgKCVpt",
        "outputId": "417795cc-926c-4c35-fa9e-a9afbafef4e1"
      },
      "source": [
        "excel_data2k"
      ],
      "execution_count": null,
      "outputs": [
        {
          "output_type": "execute_result",
          "data": {
            "text/html": [
              "<div>\n",
              "<style scoped>\n",
              "    .dataframe tbody tr th:only-of-type {\n",
              "        vertical-align: middle;\n",
              "    }\n",
              "\n",
              "    .dataframe tbody tr th {\n",
              "        vertical-align: top;\n",
              "    }\n",
              "\n",
              "    .dataframe thead th {\n",
              "        text-align: right;\n",
              "    }\n",
              "</style>\n",
              "<table border=\"1\" class=\"dataframe\">\n",
              "  <thead>\n",
              "    <tr style=\"text-align: right;\">\n",
              "      <th></th>\n",
              "      <th>FID1</th>\n",
              "      <th>Drainage_density</th>\n",
              "      <th>Sy</th>\n",
              "      <th>Lithology</th>\n",
              "      <th>Elevation</th>\n",
              "      <th>Predicted</th>\n",
              "      <th>Unnamed: 6</th>\n",
              "      <th>Unnamed: 7</th>\n",
              "      <th>Unnamed: 8</th>\n",
              "    </tr>\n",
              "  </thead>\n",
              "  <tbody>\n",
              "    <tr>\n",
              "      <th>0</th>\n",
              "      <td>0</td>\n",
              "      <td>0.0</td>\n",
              "      <td>0.000</td>\n",
              "      <td>15</td>\n",
              "      <td>0</td>\n",
              "      <td>2</td>\n",
              "      <td>NaN</td>\n",
              "      <td>NaN</td>\n",
              "      <td>NaN</td>\n",
              "    </tr>\n",
              "    <tr>\n",
              "      <th>1</th>\n",
              "      <td>1</td>\n",
              "      <td>0.0</td>\n",
              "      <td>0.047</td>\n",
              "      <td>15</td>\n",
              "      <td>0</td>\n",
              "      <td>1</td>\n",
              "      <td>NaN</td>\n",
              "      <td>NaN</td>\n",
              "      <td>1 = less than or equal 7.5</td>\n",
              "    </tr>\n",
              "    <tr>\n",
              "      <th>2</th>\n",
              "      <td>2</td>\n",
              "      <td>0.0</td>\n",
              "      <td>0.047</td>\n",
              "      <td>15</td>\n",
              "      <td>0</td>\n",
              "      <td>1</td>\n",
              "      <td>NaN</td>\n",
              "      <td>NaN</td>\n",
              "      <td>2 =  greater than 7.5</td>\n",
              "    </tr>\n",
              "    <tr>\n",
              "      <th>3</th>\n",
              "      <td>3</td>\n",
              "      <td>0.0</td>\n",
              "      <td>0.047</td>\n",
              "      <td>15</td>\n",
              "      <td>0</td>\n",
              "      <td>1</td>\n",
              "      <td>NaN</td>\n",
              "      <td>NaN</td>\n",
              "      <td>NaN</td>\n",
              "    </tr>\n",
              "    <tr>\n",
              "      <th>4</th>\n",
              "      <td>4</td>\n",
              "      <td>0.0</td>\n",
              "      <td>0.047</td>\n",
              "      <td>15</td>\n",
              "      <td>0</td>\n",
              "      <td>1</td>\n",
              "      <td>NaN</td>\n",
              "      <td>NaN</td>\n",
              "      <td>NaN</td>\n",
              "    </tr>\n",
              "    <tr>\n",
              "      <th>...</th>\n",
              "      <td>...</td>\n",
              "      <td>...</td>\n",
              "      <td>...</td>\n",
              "      <td>...</td>\n",
              "      <td>...</td>\n",
              "      <td>...</td>\n",
              "      <td>...</td>\n",
              "      <td>...</td>\n",
              "      <td>...</td>\n",
              "    </tr>\n",
              "    <tr>\n",
              "      <th>37138</th>\n",
              "      <td>37138</td>\n",
              "      <td>0.0</td>\n",
              "      <td>0.148</td>\n",
              "      <td>27</td>\n",
              "      <td>99</td>\n",
              "      <td>1</td>\n",
              "      <td>NaN</td>\n",
              "      <td>NaN</td>\n",
              "      <td>NaN</td>\n",
              "    </tr>\n",
              "    <tr>\n",
              "      <th>37139</th>\n",
              "      <td>37139</td>\n",
              "      <td>0.0</td>\n",
              "      <td>0.148</td>\n",
              "      <td>27</td>\n",
              "      <td>99</td>\n",
              "      <td>1</td>\n",
              "      <td>NaN</td>\n",
              "      <td>NaN</td>\n",
              "      <td>NaN</td>\n",
              "    </tr>\n",
              "    <tr>\n",
              "      <th>37140</th>\n",
              "      <td>37140</td>\n",
              "      <td>0.0</td>\n",
              "      <td>0.148</td>\n",
              "      <td>27</td>\n",
              "      <td>101</td>\n",
              "      <td>1</td>\n",
              "      <td>NaN</td>\n",
              "      <td>NaN</td>\n",
              "      <td>NaN</td>\n",
              "    </tr>\n",
              "    <tr>\n",
              "      <th>37141</th>\n",
              "      <td>37141</td>\n",
              "      <td>0.0</td>\n",
              "      <td>0.148</td>\n",
              "      <td>27</td>\n",
              "      <td>101</td>\n",
              "      <td>1</td>\n",
              "      <td>NaN</td>\n",
              "      <td>NaN</td>\n",
              "      <td>NaN</td>\n",
              "    </tr>\n",
              "    <tr>\n",
              "      <th>37142</th>\n",
              "      <td>37142</td>\n",
              "      <td>0.0</td>\n",
              "      <td>0.148</td>\n",
              "      <td>27</td>\n",
              "      <td>104</td>\n",
              "      <td>1</td>\n",
              "      <td>NaN</td>\n",
              "      <td>NaN</td>\n",
              "      <td>NaN</td>\n",
              "    </tr>\n",
              "  </tbody>\n",
              "</table>\n",
              "<p>37143 rows × 9 columns</p>\n",
              "</div>"
            ],
            "text/plain": [
              "        FID1  Drainage_density  ...  Unnamed: 7                  Unnamed: 8\n",
              "0          0               0.0  ...         NaN                         NaN\n",
              "1          1               0.0  ...         NaN  1 = less than or equal 7.5\n",
              "2          2               0.0  ...         NaN       2 =  greater than 7.5\n",
              "3          3               0.0  ...         NaN                         NaN\n",
              "4          4               0.0  ...         NaN                         NaN\n",
              "...      ...               ...  ...         ...                         ...\n",
              "37138  37138               0.0  ...         NaN                         NaN\n",
              "37139  37139               0.0  ...         NaN                         NaN\n",
              "37140  37140               0.0  ...         NaN                         NaN\n",
              "37141  37141               0.0  ...         NaN                         NaN\n",
              "37142  37142               0.0  ...         NaN                         NaN\n",
              "\n",
              "[37143 rows x 9 columns]"
            ]
          },
          "metadata": {
            "tags": []
          },
          "execution_count": 98
        }
      ]
    },
    {
      "cell_type": "code",
      "metadata": {
        "colab": {
          "base_uri": "https://localhost:8080/",
          "height": 419
        },
        "id": "vgQrJTZtBPkc",
        "outputId": "609fef6b-df85-4e47-ff36-8d09cf2b2547"
      },
      "source": [
        "excel_data2k[['Drainage_density','Lithology','Sy','Elevation','Predicted']]"
      ],
      "execution_count": null,
      "outputs": [
        {
          "output_type": "execute_result",
          "data": {
            "text/html": [
              "<div>\n",
              "<style scoped>\n",
              "    .dataframe tbody tr th:only-of-type {\n",
              "        vertical-align: middle;\n",
              "    }\n",
              "\n",
              "    .dataframe tbody tr th {\n",
              "        vertical-align: top;\n",
              "    }\n",
              "\n",
              "    .dataframe thead th {\n",
              "        text-align: right;\n",
              "    }\n",
              "</style>\n",
              "<table border=\"1\" class=\"dataframe\">\n",
              "  <thead>\n",
              "    <tr style=\"text-align: right;\">\n",
              "      <th></th>\n",
              "      <th>Drainage_density</th>\n",
              "      <th>Lithology</th>\n",
              "      <th>Sy</th>\n",
              "      <th>Elevation</th>\n",
              "      <th>Predicted</th>\n",
              "    </tr>\n",
              "  </thead>\n",
              "  <tbody>\n",
              "    <tr>\n",
              "      <th>0</th>\n",
              "      <td>0.0</td>\n",
              "      <td>15</td>\n",
              "      <td>0.000</td>\n",
              "      <td>0</td>\n",
              "      <td>2</td>\n",
              "    </tr>\n",
              "    <tr>\n",
              "      <th>1</th>\n",
              "      <td>0.0</td>\n",
              "      <td>15</td>\n",
              "      <td>0.047</td>\n",
              "      <td>0</td>\n",
              "      <td>1</td>\n",
              "    </tr>\n",
              "    <tr>\n",
              "      <th>2</th>\n",
              "      <td>0.0</td>\n",
              "      <td>15</td>\n",
              "      <td>0.047</td>\n",
              "      <td>0</td>\n",
              "      <td>1</td>\n",
              "    </tr>\n",
              "    <tr>\n",
              "      <th>3</th>\n",
              "      <td>0.0</td>\n",
              "      <td>15</td>\n",
              "      <td>0.047</td>\n",
              "      <td>0</td>\n",
              "      <td>1</td>\n",
              "    </tr>\n",
              "    <tr>\n",
              "      <th>4</th>\n",
              "      <td>0.0</td>\n",
              "      <td>15</td>\n",
              "      <td>0.047</td>\n",
              "      <td>0</td>\n",
              "      <td>1</td>\n",
              "    </tr>\n",
              "    <tr>\n",
              "      <th>...</th>\n",
              "      <td>...</td>\n",
              "      <td>...</td>\n",
              "      <td>...</td>\n",
              "      <td>...</td>\n",
              "      <td>...</td>\n",
              "    </tr>\n",
              "    <tr>\n",
              "      <th>37138</th>\n",
              "      <td>0.0</td>\n",
              "      <td>27</td>\n",
              "      <td>0.148</td>\n",
              "      <td>99</td>\n",
              "      <td>1</td>\n",
              "    </tr>\n",
              "    <tr>\n",
              "      <th>37139</th>\n",
              "      <td>0.0</td>\n",
              "      <td>27</td>\n",
              "      <td>0.148</td>\n",
              "      <td>99</td>\n",
              "      <td>1</td>\n",
              "    </tr>\n",
              "    <tr>\n",
              "      <th>37140</th>\n",
              "      <td>0.0</td>\n",
              "      <td>27</td>\n",
              "      <td>0.148</td>\n",
              "      <td>101</td>\n",
              "      <td>1</td>\n",
              "    </tr>\n",
              "    <tr>\n",
              "      <th>37141</th>\n",
              "      <td>0.0</td>\n",
              "      <td>27</td>\n",
              "      <td>0.148</td>\n",
              "      <td>101</td>\n",
              "      <td>1</td>\n",
              "    </tr>\n",
              "    <tr>\n",
              "      <th>37142</th>\n",
              "      <td>0.0</td>\n",
              "      <td>27</td>\n",
              "      <td>0.148</td>\n",
              "      <td>104</td>\n",
              "      <td>1</td>\n",
              "    </tr>\n",
              "  </tbody>\n",
              "</table>\n",
              "<p>37143 rows × 5 columns</p>\n",
              "</div>"
            ],
            "text/plain": [
              "       Drainage_density  Lithology     Sy  Elevation  Predicted\n",
              "0                   0.0         15  0.000          0          2\n",
              "1                   0.0         15  0.047          0          1\n",
              "2                   0.0         15  0.047          0          1\n",
              "3                   0.0         15  0.047          0          1\n",
              "4                   0.0         15  0.047          0          1\n",
              "...                 ...        ...    ...        ...        ...\n",
              "37138               0.0         27  0.148         99          1\n",
              "37139               0.0         27  0.148         99          1\n",
              "37140               0.0         27  0.148        101          1\n",
              "37141               0.0         27  0.148        101          1\n",
              "37142               0.0         27  0.148        104          1\n",
              "\n",
              "[37143 rows x 5 columns]"
            ]
          },
          "metadata": {
            "tags": []
          },
          "execution_count": 97
        }
      ]
    },
    {
      "cell_type": "code",
      "metadata": {
        "id": "fYVs9HqxBI4u"
      },
      "source": [
        "def read_2kresults(excel_data, enc, scaler):    \n",
        "\n",
        "    numeric_values = excel_data[['Sy','Elevation','Drainage_density']].values\n",
        "    categorical_values = excel_data[['Lithology']].values\n",
        "\n",
        "    one_hot_vals = enc.transform(categorical_values).toarray()\n",
        "    \n",
        "    normalized_vals = scaler.transform(numeric_values)\n",
        "\n",
        "    X = np.hstack([normalized_vals,one_hot_vals])\n",
        "    id = excel_data[['FID1']].values.ravel()\n",
        "\n",
        "    return (X,id)"
      ],
      "execution_count": null,
      "outputs": []
    },
    {
      "cell_type": "code",
      "metadata": {
        "id": "_ZJOmaHCBxke"
      },
      "source": [
        "(X2k_less,id_less) = read_2kresults(excel_data2k[excel_data2k['Predicted']==1], enc_less, scaler_less)\n",
        "(X2k_greater,id_greater) = read_2kresults(excel_data2k[excel_data2k['Predicted']==2], enc_greater, scaler_greater)"
      ],
      "execution_count": null,
      "outputs": []
    },
    {
      "cell_type": "code",
      "metadata": {
        "id": "7ug1YfWaCoE1"
      },
      "source": [
        "model_less = GWLML_Model('less')\n",
        "model_less.fit(X_less,Y_less)\n",
        "\n",
        "model_greater = GWLML_Model('greater')\n",
        "model_greater.fit(X_greater,Y_greater)"
      ],
      "execution_count": null,
      "outputs": []
    },
    {
      "cell_type": "code",
      "metadata": {
        "id": "MGbsmTQ6C1xn"
      },
      "source": [
        "yp_less = model_less.predict(X2k_less)\n",
        "yp_greater = model_greater.predict(X2k_greater)"
      ],
      "execution_count": null,
      "outputs": []
    },
    {
      "cell_type": "code",
      "metadata": {
        "id": "Fs0oTFjtC9GV"
      },
      "source": [
        "max_id = max(max(id_greater),max(id_less))"
      ],
      "execution_count": null,
      "outputs": []
    },
    {
      "cell_type": "code",
      "metadata": {
        "id": "obQAw_vNDWCq"
      },
      "source": [
        "out_csv = ['']*(max_id+1)"
      ],
      "execution_count": null,
      "outputs": []
    },
    {
      "cell_type": "code",
      "metadata": {
        "id": "2T1qRnmpDko7"
      },
      "source": [
        "for i in range(len(id_less)):\n",
        "\n",
        "    out_csv[id_less[i]] = f\"{yp_less['knn'][i]},{yp_less['svr'][i]},{yp_less['rf'][i]},{yp_less['adaboost'][i]},{yp_less['mlp'][i]},{yp_less['ens'][i]}\"\n",
        "\n",
        "for i in range(len(id_greater)):\n",
        "\n",
        "    out_csv[id_greater[i]] = f\"{yp_greater['knn'][i]},{yp_greater['svr'][i]},{yp_greater['rf'][i]},{yp_greater['adaboost'][i]},{yp_greater['mlp'][i]},{yp_greater['ens'][i]}\""
      ],
      "execution_count": null,
      "outputs": []
    },
    {
      "cell_type": "code",
      "metadata": {
        "id": "nxbXyxV_D3xL"
      },
      "source": [
        "fp = open('out.csv','w')\n",
        "fp.write('\\n'.join(out_csv))\n",
        "fp.close()"
      ],
      "execution_count": null,
      "outputs": []
    }
  ]
}